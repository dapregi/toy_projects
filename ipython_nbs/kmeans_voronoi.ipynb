{
 "metadata": {
  "name": "kmeans_voronoi"
 },
 "nbformat": 3,
 "nbformat_minor": 0,
 "worksheets": [
  {
   "cells": [
    {
     "cell_type": "heading",
     "level": 1,
     "metadata": {},
     "source": [
      "K-means clustering and Voronoi tesselation"
     ]
    },
    {
     "cell_type": "heading",
     "level": 2,
     "metadata": {},
     "source": [
      "Setting up initial data"
     ]
    },
    {
     "cell_type": "code",
     "collapsed": false,
     "input": [
      "%matplotlib inline"
     ],
     "language": "python",
     "metadata": {},
     "outputs": [
      {
       "output_type": "stream",
       "stream": "stderr",
       "text": [
        "ERROR: Line magic function `%matplotlib` not found."
       ]
      }
     ],
     "prompt_number": 1
    },
    {
     "cell_type": "code",
     "collapsed": false,
     "input": [
      "POINTS = 50 # number of data points\n",
      "\n",
      "import numpy as np\n",
      "import matplotlib.pyplot as plt\n",
      "\n",
      "np.random.seed(42)\n",
      "x, y = np.random.randint(100, size=(2, POINTS))\n",
      "plt.scatter(x,y)"
     ],
     "language": "python",
     "metadata": {},
     "outputs": [
      {
       "output_type": "pyout",
       "prompt_number": 2,
       "text": [
        "<matplotlib.collections.PathCollection at 0x42b2b10>"
       ]
      }
     ],
     "prompt_number": 2
    },
    {
     "cell_type": "heading",
     "level": 2,
     "metadata": {},
     "source": [
      "K-means clustering"
     ]
    },
    {
     "cell_type": "code",
     "collapsed": false,
     "input": [
      "CLUSTERS = 8 # number of desired clusters\n",
      "\n",
      "from scipy.cluster.vq import kmeans, vq\n",
      "\n",
      "data = np.vstack(zip(x, y))\n",
      "\n",
      "## K-means clustering\n",
      "centers = kmeans(data, CLUSTERS)[0]\n",
      "cluster = vq(data, centers)[0]\n",
      "\n",
      "plt.plot(data[cluster==0, 0], data[cluster==0, 1], 'og',\n",
      "         data[cluster==1, 0], data[cluster==1, 1], 'or',\n",
      "         data[cluster==2, 0], data[cluster==2, 1], 'ok')\n",
      "\n",
      "plt.plot(centers[:, 0], centers[:, 1], '+', markersize=15)"
     ],
     "language": "python",
     "metadata": {},
     "outputs": [
      {
       "output_type": "pyout",
       "prompt_number": 3,
       "text": [
        "[<matplotlib.lines.Line2D at 0x42d84d0>]"
       ]
      }
     ],
     "prompt_number": 3
    },
    {
     "cell_type": "heading",
     "level": 2,
     "metadata": {},
     "source": [
      "Voronoi tesselation"
     ]
    },
    {
     "cell_type": "code",
     "collapsed": false,
     "input": [
      "from scipy.spatial import Voronoi\n",
      "\n",
      "vor = Voronoi(centers)\n",
      "\n",
      "for simplex in vor.ridge_vertices:\n",
      "    simplex = np.asarray(simplex)\n",
      "    if np.all(simplex >= 0):\n",
      "        plt.plot(vor.vertices[simplex, 0], vor.vertices[simplex, 1], 'k-')\n",
      "\n",
      "center = centers.mean(axis=0)\n",
      "for pointidx, simplex in zip(vor.ridge_points, vor.ridge_vertices):\n",
      "    simplex = np.asarray(simplex)\n",
      "    if np.any(simplex < 0):\n",
      "        i = simplex[simplex >= 0][0] # finite end Voronoi vertex\n",
      "        \n",
      "        # Getting distance between points\n",
      "        t = centers[pointidx[1]] - centers[pointidx[0]] \n",
      "        \n",
      "        # Normalizing to a unit vector. To do that, just get the norm\n",
      "        # (by the Pythagorean theorem), and divide the vector by the norm\n",
      "        t = t/np.linalg.norm(t)\n",
      "        \n",
      "        n = np.array([-t[1], t[0]]) # normal\n",
      "        midpoint = centers[pointidx].mean(axis=0)\n",
      "        far_point = (vor.vertices[i] +\n",
      "                     np.sign(np.dot(midpoint - center, n)) * n * 50)\n",
      "        plt.plot([vor.vertices[i,0], far_point[0]],\n",
      "             [vor.vertices[i,1], far_point[1]], 'k--')\n",
      "plt.show()\n",
      "\n",
      "# Voronoi regions could also be obtained through Delaunay traingulation\n",
      "# http://stackoverflow.com/questions/10650645/python-calculate-voronoi-tesselation-from-scipys-delaunay-triangulation-in-3d\n"
     ],
     "language": "python",
     "metadata": {},
     "outputs": [],
     "prompt_number": 4
    }
   ],
   "metadata": {}
  }
 ]
}
