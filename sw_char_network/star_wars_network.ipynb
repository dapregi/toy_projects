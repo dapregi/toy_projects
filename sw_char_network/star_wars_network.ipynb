{
 "metadata": {
  "name": "",
  "signature": "sha256:509eac21747c11aceff24dd76bd28699968369546df092e1a80a3300d2d859b2"
 },
 "nbformat": 3,
 "nbformat_minor": 0,
 "worksheets": [
  {
   "cells": [
    {
     "cell_type": "heading",
     "level": 1,
     "metadata": {},
     "source": [
      "Star Wars Character Network"
     ]
    },
    {
     "cell_type": "heading",
     "level": 2,
     "metadata": {},
     "source": [
      "Introduction"
     ]
    },
    {
     "cell_type": "markdown",
     "metadata": {},
     "source": [
      "In the Star Wars legendarium, knowledge and training in the Force passes down through **master/apprentice relationships**. So, plotting the **relationship network** between them could help to understand how Star Wars characters are connected and how they became the Jedi or Sith that they are.\n",
      "\n",
      "All the info is gathered from **Wookiepedia** (http://starwars.wikia.com). Wookieepedia is a Star Wars encyclopedia written collaboratively by its readers. Wookieepedia strives to be the Internet's foremost comprehensive resource for Star Wars canon information. To this end, Wookieepedia adheres to the canon doctrines set forth by Lucasfilm Ltd. and its subsidiaries.\n",
      "\n",
      "The plot will be created with the Python package **PyGraphviz** (http://pygraphviz.github.io/). This is a Python interface to the Graphviz graph layout and visualization package. With PyGraphviz you can create, edit, read, write, and draw graphs using Python to access the Graphviz graph data structure and layout algorithms. \n",
      "\n",
      "The starting point will be the jedi master Yoda. Every canon character found in the relationship network will be plotted."
     ]
    },
    {
     "cell_type": "heading",
     "level": 2,
     "metadata": {},
     "source": [
      "Objective"
     ]
    },
    {
     "cell_type": "markdown",
     "metadata": {},
     "source": [
      "The objective is drawing the **master/apprentice relationship network** between the Star Wars characters with the **PyGraphviz** package of Python."
     ]
    },
    {
     "cell_type": "heading",
     "level": 2,
     "metadata": {},
     "source": [
      "Coding"
     ]
    },
    {
     "cell_type": "heading",
     "level": 3,
     "metadata": {},
     "source": [
      "Database"
     ]
    },
    {
     "cell_type": "markdown",
     "metadata": {},
     "source": [
      "Character info has been formatted into a plain txt database."
     ]
    },
    {
     "cell_type": "code",
     "collapsed": false,
     "input": [
      "fpath = \"./database/swr_char_info-canon.txt\"\n",
      "fhand = open(fpath, 'rb')\n",
      "\n",
      "for i in fhand:\n",
      "    print i.strip()\n",
      "\n",
      "fhand.close()"
     ],
     "language": "python",
     "metadata": {},
     "outputs": [
      {
       "output_type": "stream",
       "stream": "stdout",
       "text": [
        "# Star wars character network\n",
        "# Last update: July 25, 2014\n",
        "# Information extracted from Wookiepedia: http://starwars.wikia.com\n",
        "# \"Star Wars\", its characters and creations are the property of Lucasfilm. All other trademarks are property of the respective trademark owners.\n",
        "# Legend definition:\n",
        "#> NAM: Name.\n",
        "#> MAS: Known Masters.\n",
        "#> APP: Known apprentices.\n",
        "#> BSF: Wether the character has been aligned to the bright side of the force (value 1) or not (value 0).\n",
        "#> DSF: Wether the character has been aligned to the dark side of the force (value 1) or not (value 0).\n",
        "#> MTS: Wether the training MTS[n] received from the master MAS[n] was in the bright (value 1) or in the dark (value 0) side of the force.\n",
        "#> ATS: Wether the training ATS[n] given to the apprentice APP[n] was in the bright (value 1) or in the dark (value 0) side of the force.\n",
        "#NAM\tMAS\tAPP\tBSF\tDSF\tMTS\tATS\n",
        "Yoda\tQui-Gon_Jinn\tDarth_Tyranus;Obi-Wan_Kenobi;Luke_Skywalker\t1\t0\t1\t1;1;1\n",
        "Qui-Gon_Jinn\tDarth_Tyranus\tObi-Wan_Kenobi;Darth_Vader;Yoda\t1\t0\t1\t1;1;1\n",
        "Darth_Tyranus\tYoda;Darth_Sidious\tQui-Gon_Jinn;Grievous;Asajj_Ventress;Savage_Opress\t1\t1\t1;0\t1;0;0;0\n",
        "Obi-Wan_Kenobi\tYoda;Qui-Gon_Jinn\tDarth_Vader;Luke_Skywalker\t1\t0\t1;1\t1;1\n",
        "Luke_Skywalker\tObi-Wan_Kenobi;Yoda\t.\t1\t0\t1;1\t.\n",
        "Darth_Vader\tQui-Gon_Jinn;Obi-Wan_Kenobi;Darth_Sidious\tAshoka_Tano\t1\t1\t1;1;0\t1\n",
        "Darth_Sidious\tDarth_Plagueis\tDarth_Maul;Darth_Tyranus;Darth_Vader\t0\t1\t0\t0;0;0\n",
        "Grievous\tDarth_Tyranus\t.\t0\t0\t0\t.\n",
        "Asajj_Ventress\tDarth_Tyranus\tSavage_Opress\t0\t1\t0\t0\n",
        "Savage_Opress\tDarth_Tyranus;Darth_Maul\t.\t0\t1\t0;0\t.\n",
        "Ashoka_Tano\tDarth_Vader\t.\t1\t0\t1\t.\n",
        "Darth_Plagueis\t.\tDarth_Sidious\t0\t1\t.\t0\n",
        "Darth_Maul\tDarth_Sidious\tSavage_Opress\t0\t1\t0\t0\n"
       ]
      }
     ],
     "prompt_number": 1
    },
    {
     "cell_type": "heading",
     "level": 3,
     "metadata": {},
     "source": [
      "Parsing database"
     ]
    },
    {
     "cell_type": "markdown",
     "metadata": {},
     "source": [
      "Character info and training info are obtained separately.\n",
      "\n",
      "* **chars_info:** contains the master/apprentices names and the force alignment (bright or dark side) of the character. Eg.:\n",
      "\n",
      "        {\n",
      "            \"Luke Skywalker\": {\n",
      "                \"apprentices\": [\n",
      "                    \".\"\n",
      "                ], \n",
      "                \"bright_side_force\": \"1\", \n",
      "                \"dark_side_force\": \"0\", \n",
      "                \"masters\": [\n",
      "                    \"Obi-Wan Kenobi\", \n",
      "                    \"Yoda\"\n",
      "                ]\n",
      "            },\n",
      "           \"Darth Sidious\": {\n",
      "                \"apprentices\": [\n",
      "                    \"Darth Maul\", \n",
      "                    \"Darth Tyranus\", \n",
      "                    \"Darth Vader\"\n",
      "                ], \n",
      "                \"bright_side_force\": \"0\", \n",
      "                \"dark_side_force\": \"1\", \n",
      "                \"masters\": [\n",
      "                    \"Darth Plagueis\"\n",
      "                ]\n",
      "            }\n",
      "        }\n",
      "\n",
      "* **training_info:** contains the force alignment of the given training between characters\n",
      "\n",
      "        [\n",
      "            ['Yoda', 'Luke Skywalker', '1'],\n",
      "            ['Qui-Gon Jinn', 'Darth Vader', '1'], \n",
      "            ['Darth Sidious', 'Darth Vader', '0']\n",
      "         ]"
     ]
    },
    {
     "cell_type": "code",
     "collapsed": false,
     "input": [
      "import re\n",
      "import json\n",
      "\n",
      "def parse_network_file(fpath):\n",
      "    '''It parses the file containing the network information'''\n",
      "\n",
      "    fhand = open(fpath,'rb')\n",
      "\n",
      "    chars_info = {}\n",
      "    training_info = []\n",
      "    for line in fhand:\n",
      "        line = line.strip()\n",
      "\n",
      "        if not line.startswith('#'): # Skipping header\n",
      "            char_data = re.sub('_', ' ', line).split('\\t')\n",
      "\n",
      "            # Extracting fields\n",
      "            name = char_data[0]\n",
      "            masters = char_data[1].split(';')\n",
      "            apprentices = char_data[2].split(';')\n",
      "            bright_side_force = char_data[3]\n",
      "            dark_side_force = char_data[4]\n",
      "            training_master = char_data[5].split(';')\n",
      "            training_apprentice = char_data[6].split(';')\n",
      "\n",
      "            chars_info[name] = {}\n",
      "            chars_info[name]['masters'] = masters\n",
      "            chars_info[name]['apprentices'] = apprentices\n",
      "            chars_info[name]['bright_side_force'] = bright_side_force\n",
      "            chars_info[name]['dark_side_force'] = dark_side_force\n",
      "\n",
      "            for i, apprentice in enumerate(apprentices):\n",
      "                if not apprentice == '.':\n",
      "                    training_relationship = [name, apprentice, training_apprentice[i]]\n",
      "                    training_info.append(training_relationship)\n",
      "\n",
      "    fhand.close()\n",
      "    return chars_info, training_info\n",
      "\n",
      "chars_info, training_info = parse_network_file(fpath)"
     ],
     "language": "python",
     "metadata": {},
     "outputs": [],
     "prompt_number": 2
    },
    {
     "cell_type": "heading",
     "level": 3,
     "metadata": {},
     "source": [
      "Data structure for plotting"
     ]
    },
    {
     "cell_type": "markdown",
     "metadata": {},
     "source": [
      "The Python package \"PyGraphviz\" can use a dictionary of dictionaries as data structure for plotting the network graph. Eg:\n",
      "\n",
      "    {\n",
      "    'Darth Sidious': {\n",
      "        'Darth Maul': None,\n",
      "        'Darth Tyranus': None,\n",
      "        'Darth Vader': None\n",
      "        }, \n",
      "    'Yoda': {\n",
      "        'Darth Tyranus': None,\n",
      "        'Luke Skywalker': None, \n",
      "        'Obi-Wan Kenobi': None\n",
      "        }, \n",
      "    }\n",
      "\n",
      "* **Tutorial:** http://pygraphviz.github.io/documentation/latest/tutorial.html."
     ]
    },
    {
     "cell_type": "code",
     "collapsed": false,
     "input": [
      "def create_dictionary_for_plotting(chars_info):\n",
      "    '''It populates dictionary \"d\" for plotting'''\n",
      "    d = {}\n",
      "    master_list = []\n",
      "    apprentice_list = []\n",
      "    for char in chars_info:\n",
      "        master_list.append(char)\n",
      "        apprentices = chars_info[char]['apprentices']\n",
      "        d[char] = {}\n",
      "        for apprentice in apprentices:\n",
      "            if not apprentice == '.':\n",
      "                apprentice_list.append(apprentice)\n",
      "                d[char][apprentice] = None\n",
      "\n",
      "    # Remove chars with no apprentice (empty element from 'd')\n",
      "    d = dict((k, v) for k, v in d.iteritems() if v)\n",
      "    return d\n",
      "\n",
      "d = create_dictionary_for_plotting(chars_info)"
     ],
     "language": "python",
     "metadata": {},
     "outputs": [],
     "prompt_number": 3
    },
    {
     "cell_type": "heading",
     "level": 3,
     "metadata": {},
     "source": [
      "Plotting"
     ]
    },
    {
     "cell_type": "markdown",
     "metadata": {},
     "source": [
      "A directed graphs is created to show the relationship network.\n",
      "\n",
      "* More AGraph class info: http://pygraphviz.github.io/documentation/latest/reference/agraph.html"
     ]
    },
    {
     "cell_type": "code",
     "collapsed": false,
     "input": [
      "import pygraphviz as pgv   \n",
      "\n",
      "def plotting_graphs(d, training_info):\n",
      "    # Plotting the graphs\n",
      "    G = pgv.AGraph(d,\n",
      "                   strict = False,\n",
      "                   directed = True,\n",
      "                   overlap = False, # Avoid overlapping nodes\n",
      "                   splines = True) # Curvy edges   \n",
      "    \n",
      "               \n",
      "    for training in training_info:\n",
      "        edge = G.get_edge(training[0], training[1])\n",
      "        edge.attr['len'] = 1\n",
      "        if int(training[2]):\n",
      "            edge.attr['color'] = 'green'\n",
      "        else:\n",
      "            edge.attr['color'] = 'red'\n",
      "    \n",
      "    for char in chars_info:\n",
      "        node = G.get_node(char)\n",
      "        node.attr['style'] = 'filled'\n",
      "        bsf = int(chars_info[char]['bright_side_force'])\n",
      "        dsf = int(chars_info[char]['dark_side_force'])\n",
      "        if bsf and dsf:\n",
      "            continue\n",
      "        elif bsf:\n",
      "            node.attr['fillcolor'] = 'green'\n",
      "        elif dsf:\n",
      "            node.attr['fillcolor'] = 'red'    \n",
      "\n",
      "    \n",
      "    G.layout(prog = 'fdp')\n",
      "    G.draw('./images/file1.png')\n",
      "\n",
      "\n",
      "# Plotting\n",
      "plotting_graphs(d, training_info)"
     ],
     "language": "python",
     "metadata": {},
     "outputs": [],
     "prompt_number": 4
    }
   ],
   "metadata": {}
  }
 ]
}